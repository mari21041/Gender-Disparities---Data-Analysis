{
 "cells": [
  {
   "cell_type": "code",
   "execution_count": 11,
   "id": "ec6b55a4-ee2e-49c0-93f0-510ce44eb18b",
   "metadata": {},
   "outputs": [],
   "source": [
    "import numpy as np\n",
    "import pandas as pd"
   ]
  },
  {
   "cell_type": "code",
   "execution_count": 12,
   "id": "3867db5e-08a6-445d-9796-b318de59fbf7",
   "metadata": {},
   "outputs": [
    {
     "data": {
      "text/html": [
       "<div>\n",
       "<style scoped>\n",
       "    .dataframe tbody tr th:only-of-type {\n",
       "        vertical-align: middle;\n",
       "    }\n",
       "\n",
       "    .dataframe tbody tr th {\n",
       "        vertical-align: top;\n",
       "    }\n",
       "\n",
       "    .dataframe thead th {\n",
       "        text-align: right;\n",
       "    }\n",
       "</style>\n",
       "<table border=\"1\" class=\"dataframe\">\n",
       "  <thead>\n",
       "    <tr style=\"text-align: right;\">\n",
       "      <th></th>\n",
       "      <th>Country</th>\n",
       "      <th>Year</th>\n",
       "      <th>Indicator</th>\n",
       "      <th>Sex</th>\n",
       "      <th>Value</th>\n",
       "    </tr>\n",
       "  </thead>\n",
       "  <tbody>\n",
       "    <tr>\n",
       "      <th>0</th>\n",
       "      <td>Afghanistan</td>\n",
       "      <td>2011-01-01</td>\n",
       "      <td>Adolescent Birth Rate (births per 1,000 women ...</td>\n",
       "      <td>\\N</td>\n",
       "      <td>116.45</td>\n",
       "    </tr>\n",
       "    <tr>\n",
       "      <th>1</th>\n",
       "      <td>Afghanistan</td>\n",
       "      <td>2012-01-01</td>\n",
       "      <td>Adolescent Birth Rate (births per 1,000 women ...</td>\n",
       "      <td>\\N</td>\n",
       "      <td>111.29</td>\n",
       "    </tr>\n",
       "    <tr>\n",
       "      <th>2</th>\n",
       "      <td>Afghanistan</td>\n",
       "      <td>2013-01-01</td>\n",
       "      <td>Adolescent Birth Rate (births per 1,000 women ...</td>\n",
       "      <td>\\N</td>\n",
       "      <td>106.54</td>\n",
       "    </tr>\n",
       "    <tr>\n",
       "      <th>3</th>\n",
       "      <td>Afghanistan</td>\n",
       "      <td>2014-01-01</td>\n",
       "      <td>Adolescent Birth Rate (births per 1,000 women ...</td>\n",
       "      <td>\\N</td>\n",
       "      <td>101.45</td>\n",
       "    </tr>\n",
       "    <tr>\n",
       "      <th>4</th>\n",
       "      <td>Afghanistan</td>\n",
       "      <td>2015-01-01</td>\n",
       "      <td>Adolescent Birth Rate (births per 1,000 women ...</td>\n",
       "      <td>\\N</td>\n",
       "      <td>97.42</td>\n",
       "    </tr>\n",
       "  </tbody>\n",
       "</table>\n",
       "</div>"
      ],
      "text/plain": [
       "       Country        Year                                          Indicator  \\\n",
       "0  Afghanistan  2011-01-01  Adolescent Birth Rate (births per 1,000 women ...   \n",
       "1  Afghanistan  2012-01-01  Adolescent Birth Rate (births per 1,000 women ...   \n",
       "2  Afghanistan  2013-01-01  Adolescent Birth Rate (births per 1,000 women ...   \n",
       "3  Afghanistan  2014-01-01  Adolescent Birth Rate (births per 1,000 women ...   \n",
       "4  Afghanistan  2015-01-01  Adolescent Birth Rate (births per 1,000 women ...   \n",
       "\n",
       "  Sex   Value  \n",
       "0  \\N  116.45  \n",
       "1  \\N  111.29  \n",
       "2  \\N  106.54  \n",
       "3  \\N  101.45  \n",
       "4  \\N   97.42  "
      ]
     },
     "execution_count": 12,
     "metadata": {},
     "output_type": "execute_result"
    }
   ],
   "source": [
    "final= pd.read_csv('../data/clean/clean_data.csv')\n",
    "final.head()"
   ]
  },
  {
   "cell_type": "code",
   "execution_count": 13,
   "id": "271db26d-b455-4e3f-a135-c4942cc4c189",
   "metadata": {},
   "outputs": [
    {
     "data": {
      "text/plain": [
       "Country      object\n",
       "Year         object\n",
       "Indicator    object\n",
       "Sex          object\n",
       "Value        object\n",
       "dtype: object"
      ]
     },
     "execution_count": 13,
     "metadata": {},
     "output_type": "execute_result"
    }
   ],
   "source": [
    "final.dtypes"
   ]
  },
  {
   "cell_type": "code",
   "execution_count": null,
   "id": "617b7c60-a728-456e-9050-dea78755e0ac",
   "metadata": {},
   "outputs": [],
   "source": []
  }
 ],
 "metadata": {
  "kernelspec": {
   "display_name": "bas_new",
   "language": "python",
   "name": "bas_new"
  },
  "language_info": {
   "codemirror_mode": {
    "name": "ipython",
    "version": 3
   },
   "file_extension": ".py",
   "mimetype": "text/x-python",
   "name": "python",
   "nbconvert_exporter": "python",
   "pygments_lexer": "ipython3",
   "version": "3.12.3"
  }
 },
 "nbformat": 4,
 "nbformat_minor": 5
}
