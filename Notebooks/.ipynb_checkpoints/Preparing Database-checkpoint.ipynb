{
 "cells": [
  {
   "cell_type": "code",
   "execution_count": 1,
   "id": "ec6b55a4-ee2e-49c0-93f0-510ce44eb18b",
   "metadata": {},
   "outputs": [],
   "source": [
    "import numpy as np\n",
    "import pandas as pd\n",
    "import re"
   ]
  },
  {
   "cell_type": "code",
   "execution_count": 3,
   "id": "3867db5e-08a6-445d-9796-b318de59fbf7",
   "metadata": {},
   "outputs": [
    {
     "data": {
      "text/html": [
       "<div>\n",
       "<style scoped>\n",
       "    .dataframe tbody tr th:only-of-type {\n",
       "        vertical-align: middle;\n",
       "    }\n",
       "\n",
       "    .dataframe tbody tr th {\n",
       "        vertical-align: top;\n",
       "    }\n",
       "\n",
       "    .dataframe thead th {\n",
       "        text-align: right;\n",
       "    }\n",
       "</style>\n",
       "<table border=\"1\" class=\"dataframe\">\n",
       "  <thead>\n",
       "    <tr style=\"text-align: right;\">\n",
       "      <th></th>\n",
       "      <th>Country</th>\n",
       "      <th>Year</th>\n",
       "      <th>Indicator</th>\n",
       "      <th>Sex</th>\n",
       "      <th>Value</th>\n",
       "    </tr>\n",
       "  </thead>\n",
       "  <tbody>\n",
       "    <tr>\n",
       "      <th>0</th>\n",
       "      <td>Afghanistan</td>\n",
       "      <td>2011-01-01</td>\n",
       "      <td>Adolescent Birth Rate (births per 1,000 women ...</td>\n",
       "      <td>\\N</td>\n",
       "      <td>116.454</td>\n",
       "    </tr>\n",
       "    <tr>\n",
       "      <th>1</th>\n",
       "      <td>Afghanistan</td>\n",
       "      <td>2012-01-01</td>\n",
       "      <td>Adolescent Birth Rate (births per 1,000 women ...</td>\n",
       "      <td>\\N</td>\n",
       "      <td>111.286</td>\n",
       "    </tr>\n",
       "    <tr>\n",
       "      <th>2</th>\n",
       "      <td>Afghanistan</td>\n",
       "      <td>2013-01-01</td>\n",
       "      <td>Adolescent Birth Rate (births per 1,000 women ...</td>\n",
       "      <td>\\N</td>\n",
       "      <td>106.537</td>\n",
       "    </tr>\n",
       "    <tr>\n",
       "      <th>3</th>\n",
       "      <td>Afghanistan</td>\n",
       "      <td>2014-01-01</td>\n",
       "      <td>Adolescent Birth Rate (births per 1,000 women ...</td>\n",
       "      <td>\\N</td>\n",
       "      <td>101.454</td>\n",
       "    </tr>\n",
       "    <tr>\n",
       "      <th>4</th>\n",
       "      <td>Afghanistan</td>\n",
       "      <td>2015-01-01</td>\n",
       "      <td>Adolescent Birth Rate (births per 1,000 women ...</td>\n",
       "      <td>\\N</td>\n",
       "      <td>97.415</td>\n",
       "    </tr>\n",
       "  </tbody>\n",
       "</table>\n",
       "</div>"
      ],
      "text/plain": [
       "       Country        Year                                          Indicator  \\\n",
       "0  Afghanistan  2011-01-01  Adolescent Birth Rate (births per 1,000 women ...   \n",
       "1  Afghanistan  2012-01-01  Adolescent Birth Rate (births per 1,000 women ...   \n",
       "2  Afghanistan  2013-01-01  Adolescent Birth Rate (births per 1,000 women ...   \n",
       "3  Afghanistan  2014-01-01  Adolescent Birth Rate (births per 1,000 women ...   \n",
       "4  Afghanistan  2015-01-01  Adolescent Birth Rate (births per 1,000 women ...   \n",
       "\n",
       "  Sex    Value  \n",
       "0  \\N  116.454  \n",
       "1  \\N  111.286  \n",
       "2  \\N  106.537  \n",
       "3  \\N  101.454  \n",
       "4  \\N   97.415  "
      ]
     },
     "execution_count": 3,
     "metadata": {},
     "output_type": "execute_result"
    }
   ],
   "source": [
    "final= pd.read_csv('../data/clean/clean_data.csv')\n",
    "final.head()"
   ]
  },
  {
   "cell_type": "code",
   "execution_count": null,
   "id": "be41d813-a3cb-476d-ba57-e2acf7467fbc",
   "metadata": {},
   "outputs": [],
   "source": []
  }
 ],
 "metadata": {
  "kernelspec": {
   "display_name": "bas_new",
   "language": "python",
   "name": "bas_new"
  },
  "language_info": {
   "codemirror_mode": {
    "name": "ipython",
    "version": 3
   },
   "file_extension": ".py",
   "mimetype": "text/x-python",
   "name": "python",
   "nbconvert_exporter": "python",
   "pygments_lexer": "ipython3",
   "version": "3.12.3"
  }
 },
 "nbformat": 4,
 "nbformat_minor": 5
}
